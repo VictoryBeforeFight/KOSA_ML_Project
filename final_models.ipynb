{
  "nbformat": 4,
  "nbformat_minor": 0,
  "metadata": {
    "colab": {
      "provenance": [],
      "collapsed_sections": [
        "OU-oQfkytJjL",
        "_51Vzuh9tMad",
        "N4TY80Cpt6Ts",
        "fbh4zzQoqG-e",
        "4_PL8XPbQ-mZ",
        "jyZwA7WaRArp"
      ],
      "include_colab_link": true
    },
    "kernelspec": {
      "name": "python3",
      "display_name": "Python 3"
    },
    "language_info": {
      "name": "python"
    }
  },
  "cells": [
    {
      "cell_type": "markdown",
      "metadata": {
        "id": "view-in-github",
        "colab_type": "text"
      },
      "source": [
        "<a href=\"https://colab.research.google.com/github/VictoryBeforeFight/KOSA_ML_Project/blob/main/final_models.ipynb\" target=\"_parent\"><img src=\"https://colab.research.google.com/assets/colab-badge.svg\" alt=\"Open In Colab\"/></a>"
      ]
    },
    {
      "cell_type": "markdown",
      "source": [
        "## 웹 광고 클릭률 데이터 (출처 : 데이콘)\n",
        "- 시간 순으로 나열된 7일 동안의 웹 광고 클릭 로그\n",
        "- ID: train 데이터 샘플 고유 ID\n",
        "- Click: 예측 목표인 클릭 여부\n",
        "- 0: 클릭하지 않음, 1: 클릭\n",
        "- F01 ~ F39 : 각 클릭 로그와 연관된 Feature\n",
        "- 개인정보 보호를 위해 상세 정보는 비식별 처리됨"
      ],
      "metadata": {
        "id": "lEdsOaqj5eaT"
      }
    },
    {
      "cell_type": "markdown",
      "source": [
        "## 데이터 로드 및 라이브러리 임포트"
      ],
      "metadata": {
        "id": "1yCh07nJpp3N"
      }
    },
    {
      "cell_type": "markdown",
      "source": [
        "### 데이터 로드"
      ],
      "metadata": {
        "id": "sfXDFjZ_RZPZ"
      }
    },
    {
      "cell_type": "code",
      "source": [
        "# 데이터프레임 형식으로 데이터 로드\n",
        "df = pd.read_parquet(\"/content/drive/MyDrive/KOSA_데이터분석 팀 프로젝트/Pilot Project/CTR/train.parquet\")"
      ],
      "metadata": {
        "id": "o3lEdiw_pqN2"
      },
      "execution_count": null,
      "outputs": []
    },
    {
      "cell_type": "markdown",
      "source": [
        "### 라이브러리 임포트"
      ],
      "metadata": {
        "id": "Ay4ATmfKRbOJ"
      }
    },
    {
      "cell_type": "code",
      "source": [
        "!pip install optuna"
      ],
      "metadata": {
        "id": "GjDHXbEGSV2S"
      },
      "execution_count": null,
      "outputs": []
    },
    {
      "cell_type": "code",
      "source": [
        "!pip install catboost"
      ],
      "metadata": {
        "id": "rNq7bu08SXoD"
      },
      "execution_count": null,
      "outputs": []
    },
    {
      "cell_type": "code",
      "source": [
        "import pandas as pd\n",
        "import numpy as np\n",
        "import matplotlib.pyplot as plt\n",
        "import seaborn as sns\n",
        "from sklearn.model_selection import train_test_split\n",
        "from sklearn.metrics import roc_auc_score, classification_report, confusion_matrix\n",
        "from sklearn.linear_model import LogisticRegression\n",
        "from sklearn.tree import DecisionTreeClassifier\n",
        "from sklearn.ensemble import RandomForestClassifier\n",
        "from xgboost import XGBClassifier\n",
        "from lightgbm import LGBMClassifier\n",
        "from catboost import CatBoostClassifier\n",
        "import optuna"
      ],
      "metadata": {
        "id": "3-ZNkp3KRYvT"
      },
      "execution_count": null,
      "outputs": []
    },
    {
      "cell_type": "markdown",
      "source": [
        "## 2차 데이터 전처리"
      ],
      "metadata": {
        "id": "vMUR5fpvpuLf"
      }
    },
    {
      "cell_type": "markdown",
      "source": [
        "### 결측치 처리\n",
        "- 연속형 변수의 결측치를 중앙값으로 대체\n",
        "- 범주형 변수의 결측치를 최빈값인 0으로 대체\n",
        "- 결측치가 많았던 F11, F22, F29 열은 제거"
      ],
      "metadata": {
        "id": "7h3C7K2OqufU"
      }
    },
    {
      "cell_type": "code",
      "source": [
        "# 연속형 변수 결측치를 중앙값으로 대체\n",
        "def fill_missing_values_with_median(df):\n",
        "    numeric_cols = df.select_dtypes(include=['int64', 'float64']).columns\n",
        "    df[numeric_cols] = df[numeric_cols].fillna(df[numeric_cols].median())\n",
        "    return df\n",
        "\n",
        "def fill_categorical_missing_with_negative_one(df):\n",
        "    # 범주형 변수 선별\n",
        "    categorical_cols = df.select_dtypes(include=['object', 'category']).columns\n",
        "\n",
        "    # 범주형 변수의 결측치를 -1로 대체\n",
        "    df[categorical_cols] = df[categorical_cols].fillna(-1)\n",
        "\n",
        "    return df\n",
        "\n",
        "# 연속형 변수 결측치를 0으로 대체\n",
        "def fill_missing_values_with_zero(df):\n",
        "    numeric_cols = df.select_dtypes(include=['int64', 'float64']).columns\n",
        "    df[numeric_cols] = df[numeric_cols].fillna(0)\n",
        "    return df"
      ],
      "metadata": {
        "id": "ujwzWcsXpv2L"
      },
      "execution_count": null,
      "outputs": []
    },
    {
      "cell_type": "code",
      "source": [
        "df = fill_missing_values_with_median(df)\n",
        "df = fill_categorical_missing_with_negative_one(df)"
      ],
      "metadata": {
        "id": "NKV2ZV3uur7c"
      },
      "execution_count": null,
      "outputs": []
    },
    {
      "cell_type": "markdown",
      "source": [
        "### 범주형 데이터 인코딩\n",
        "- 범주형 데이터는 머신러닝 모델의 학습이나 평가를 위해 사용할 수 없기 때문에 인코딩하여 사용"
      ],
      "metadata": {
        "id": "A9T4pJW4q4fr"
      }
    },
    {
      "cell_type": "code",
      "source": [
        "from sklearn.preprocessing import LabelEncoder\n",
        "\n",
        "def categorical_label(df) :\n",
        "    # 범주형 데이터 뽑기\n",
        "    categorical_cols = df.select_dtypes(include = ['object']).columns\n",
        "\n",
        "    #타입변경\n",
        "    df[categorical_cols] = df[categorical_cols].astype(str)\n",
        "\n",
        "    for cols in categorical_cols :\n",
        "        #label encoder 불러오기\n",
        "        le = LabelEncoder()\n",
        "        # 범주형 -> 수치형 데이터 변환\n",
        "        df[cols] = le.fit_transform(df[cols])"
      ],
      "metadata": {
        "id": "RT84_MOzrQ3S"
      },
      "execution_count": null,
      "outputs": []
    },
    {
      "cell_type": "code",
      "source": [
        "df = categorical_label(df)"
      ],
      "metadata": {
        "id": "QsyQ5DLe6pzs"
      },
      "execution_count": null,
      "outputs": []
    },
    {
      "cell_type": "markdown",
      "source": [
        "### 학습용 데이터와 평가용 데이터 분리"
      ],
      "metadata": {
        "id": "tZsU38Nc3uED"
      }
    },
    {
      "cell_type": "code",
      "source": [
        "X = df.drop(columns='Click')\n",
        "y = df.loc[:, 'Click']"
      ],
      "metadata": {
        "id": "BUTFprE03tt8"
      },
      "execution_count": null,
      "outputs": []
    },
    {
      "cell_type": "code",
      "source": [
        "# 데이터 분할\n",
        "X_train, X_test, y_train, y_test = train_test_split(X, y, test_size=0.2, random_state=42)"
      ],
      "metadata": {
        "id": "aucS9Y2I6jJU"
      },
      "execution_count": null,
      "outputs": []
    },
    {
      "cell_type": "markdown",
      "source": [
        "### 데이터 샘플링\n",
        "- 데이터 양이 많고, 종속 변수의 비율이 8.5 : 1.5 분포되어 있어 정확한 학습과 예측이 어려울 것이라고 판단하여 언더 샘플링으로 진행"
      ],
      "metadata": {
        "id": "Yf6OJp4NrjUj"
      }
    },
    {
      "cell_type": "code",
      "source": [
        "def random_undersampling(X, y):\n",
        "    \"\"\"\n",
        "    언더샘플링을 수행하여 균형 잡힌 데이터셋을 생성합니다.\n",
        "\n",
        "    Args:\n",
        "        X (pandas.DataFrame): 입력 데이터\n",
        "        y (pandas.Series): 레이블 데이터\n",
        "\n",
        "    Returns:\n",
        "        tuple: 균형 잡힌 X, y 데이터셋\n",
        "    \"\"\"\n",
        "\n",
        "    X.index = y.index\n",
        "\n",
        "    positive_examples = X[y == 1]\n",
        "    negative_examples = X[y == 0]\n",
        "    num_positive_samples = len(positive_examples)\n",
        "\n",
        "    random_negative_samples = negative_examples.sample(n=num_positive_samples, random_state=42)\n",
        "\n",
        "    balanced_X = pd.concat([positive_examples, random_negative_samples])\n",
        "    balanced_y = pd.concat([pd.Series([1] * len(positive_examples)),\n",
        "                            pd.Series([0] * len(random_negative_samples))])\n",
        "\n",
        "    return balanced_X, balanced_y"
      ],
      "metadata": {
        "id": "rEN4tp_ar3B_"
      },
      "execution_count": null,
      "outputs": []
    },
    {
      "cell_type": "code",
      "source": [
        "balanced_X, balanced_y = random_undersampling(X_train, y_train)"
      ],
      "metadata": {
        "id": "emdNaCo06VrW"
      },
      "execution_count": null,
      "outputs": []
    },
    {
      "cell_type": "markdown",
      "source": [
        "## 2차 모델링\n"
      ],
      "metadata": {
        "id": "sYGpPR88pwjD"
      }
    },
    {
      "cell_type": "markdown",
      "source": [
        "### 평가 지표를 텍스트로 출력하는 함수 정의"
      ],
      "metadata": {
        "id": "9kguPnbx7ACK"
      }
    },
    {
      "cell_type": "code",
      "source": [
        "def evaluate_model(model, X_test, y_test):\n",
        "    \"\"\"\n",
        "    모델 성능 평가 함수\n",
        "    \"\"\"\n",
        "    # AUC 계산\n",
        "    y_pred_proba = model.predict_proba(X_test)[:, 1]\n",
        "    auc = roc_auc_score(y_test, y_pred_proba)\n",
        "    print(f'AUC: {auc:.4f}')\n",
        "\n",
        "    # 성능 평가 보고서 생성\n",
        "    report = classification_report(y_test, model.predict(X_test))\n",
        "    print(report)\n",
        "\n",
        "    # 혼동 행렬 출력\n",
        "    cm = confusion_matrix(y_test, model.predict(X_test))\n",
        "    print(cm)"
      ],
      "metadata": {
        "id": "dWixuy_27AYq"
      },
      "execution_count": null,
      "outputs": []
    },
    {
      "cell_type": "code",
      "source": [
        "def plot_feature_importance(model, X_train):\n",
        "    \"\"\"\n",
        "    특성 중요도 시각화 함수\n",
        "    \"\"\"\n",
        "    feature_importances = pd.DataFrame({\n",
        "        'feature': X_train.columns,\n",
        "        'importance': model.feature_importances_\n",
        "    }).sort_values(by='importance', ascending=False)\n",
        "\n",
        "    plt.figure(figsize=(10, 8))\n",
        "    sns.barplot(x='importance', y='feature', data=feature_importances)\n",
        "    plt.title('Feature Importance')\n",
        "    plt.show()"
      ],
      "metadata": {
        "id": "p1gwm5Ih78rD"
      },
      "execution_count": null,
      "outputs": []
    },
    {
      "cell_type": "markdown",
      "source": [
        "### 평가 지표를 그래프로 출력하는 함수 정의"
      ],
      "metadata": {
        "id": "3JvUinkXROZr"
      }
    },
    {
      "cell_type": "code",
      "source": [
        "def evaluate_model(model, X_test, y_test, model_name):\n",
        "    # 예측값 생성\n",
        "    y_pred = model.predict(X_test)\n",
        "\n",
        "    # 혼동 행렬 시각화\n",
        "    cm = confusion_matrix(y_test, y_pred)\n",
        "    plt.figure(figsize=(8, 6))\n",
        "    sns.heatmap(cm, annot=True, fmt='d', cmap='Blues')\n",
        "    plt.xlabel('Predicted Target')\n",
        "    plt.ylabel('Actual Target')\n",
        "    plt.title(f'{model_name} Confusion Matrix')\n",
        "    plt.show()\n",
        "\n",
        "    # ROC 곡선 시각화\n",
        "    recall = recall_score(y_test, y_pred)\n",
        "    fallout = 1 - recall_score(y_test, y_pred, pos_label=0)\n",
        "    fpr, tpr, _ = roc_curve(y_test, model.decision_function(X_test))\n",
        "\n",
        "    plt.figure(figsize=(8, 6))\n",
        "    plt.plot(fpr, tpr, label=model_name)\n",
        "    plt.plot([0, 1], [0, 1], 'k--', label='Random Guess')\n",
        "    plt.plot([fallout], [recall], 'ro', ms=10)\n",
        "    plt.xlabel('False Positive Rate (Fall-Out)')\n",
        "    plt.ylabel('True Positive Rate (Recall)')\n",
        "    plt.title(f'{model_name} ROC Curve')\n",
        "    plt.legend()\n",
        "    plt.show()"
      ],
      "metadata": {
        "id": "ymiAKkNxRSfD"
      },
      "execution_count": null,
      "outputs": []
    },
    {
      "cell_type": "markdown",
      "source": [
        "### Logistc Regression"
      ],
      "metadata": {
        "id": "Vv3N1sSYt-0u"
      }
    },
    {
      "cell_type": "code",
      "source": [
        "# 회귀분류 모델 학습\n",
        "lr_model = LogisticRegression()\n",
        "lr_model.fit(balanced_X, balanced_y)\n",
        "\n",
        "# 테스트 데이터로 예측\n",
        "y_pred = lr_model.predict(X_test)"
      ],
      "metadata": {
        "id": "5LIQXwB7pzOB"
      },
      "execution_count": null,
      "outputs": []
    },
    {
      "cell_type": "code",
      "source": [
        "evaluate_model(dt_model, X_test, y_test)"
      ],
      "metadata": {
        "id": "3DP17AIx7lIa"
      },
      "execution_count": null,
      "outputs": []
    },
    {
      "cell_type": "markdown",
      "source": [
        "### Decision Tree"
      ],
      "metadata": {
        "id": "BNGE5SbavL3Z"
      }
    },
    {
      "cell_type": "code",
      "source": [
        "# 의사결정나무 모델 학습\n",
        "dt_model = DecisionTreeClassifier()\n",
        "dt_model.fit(balanced_X, balanced_y)\n",
        "\n",
        "# 테스트 데이터로 예측\n",
        "y_pred = dt_model.predict(X_test)"
      ],
      "metadata": {
        "id": "4egF1sO5vN_W"
      },
      "execution_count": null,
      "outputs": []
    },
    {
      "cell_type": "code",
      "source": [
        "evaluate_model(dt_model, X_test, y_test)"
      ],
      "metadata": {
        "id": "xJkVPUXk7lcq"
      },
      "execution_count": null,
      "outputs": []
    },
    {
      "cell_type": "markdown",
      "source": [
        "### Random Forest"
      ],
      "metadata": {
        "id": "JUjS5CASvTkX"
      }
    },
    {
      "cell_type": "code",
      "source": [
        "# 랜덤포레스트 모델 학습\n",
        "rf_model = RandomForestClassifier()\n",
        "rf_model.fit(balanced_X, balanced_y)\n",
        "\n",
        "# 테스트 데이터로 예측\n",
        "y_pred = rf_model.predict(X_test)"
      ],
      "metadata": {
        "id": "DACez_5MvS1N"
      },
      "execution_count": null,
      "outputs": []
    },
    {
      "cell_type": "code",
      "source": [
        "evaluate_model(rf_model, X_test, y_test)"
      ],
      "metadata": {
        "id": "MX-FMmQY7l0C"
      },
      "execution_count": null,
      "outputs": []
    },
    {
      "cell_type": "markdown",
      "source": [
        "### XGBoost"
      ],
      "metadata": {
        "id": "tw-Jl6-j6Nbm"
      }
    },
    {
      "cell_type": "code",
      "source": [
        "# XGBoost모델 학습\n",
        "xgb_model = XGBClassifier()\n",
        "xgb_model.fit(X_train, y_train)\n",
        "\n",
        "# 테스트 데이터로 예측\n",
        "y_pred = xgb_model.predict(X_test)"
      ],
      "metadata": {
        "id": "Du7_Y-N66QUZ"
      },
      "execution_count": null,
      "outputs": []
    },
    {
      "cell_type": "code",
      "source": [
        "evaluate_model(xgb_model, X_test, y_test)"
      ],
      "metadata": {
        "id": "bZtQnDmt7mKy"
      },
      "execution_count": null,
      "outputs": []
    },
    {
      "cell_type": "markdown",
      "source": [
        "### LGBM"
      ],
      "metadata": {
        "id": "Jab4plIB6Q4V"
      }
    },
    {
      "cell_type": "code",
      "source": [
        "# 모델 학습\n",
        "lgb_model = LGBMClassifier()\n",
        "lgb_model.fit(X_train, y_train)\n",
        "\n",
        "# 테스트 데이터로 예측\n",
        "y_pred = lgb_model.predict(X_test)"
      ],
      "metadata": {
        "id": "HpZjnjem6T3F"
      },
      "execution_count": null,
      "outputs": []
    },
    {
      "cell_type": "code",
      "source": [
        "evaluate_model(lgb_model, X_test, y_test)"
      ],
      "metadata": {
        "id": "wybl0ppu7mrJ"
      },
      "execution_count": null,
      "outputs": []
    },
    {
      "cell_type": "markdown",
      "source": [
        "### CatBoost"
      ],
      "metadata": {
        "id": "5BmFnpC5vOZ6"
      }
    },
    {
      "cell_type": "code",
      "source": [
        "# 모델 학습\n",
        "cb_model = CatBoostClassifier()\n",
        "cb_model.fit(X_train, y_train)\n",
        "\n",
        "# 테스트 데이터로 예측\n",
        "y_pred = cb_model.predict(X_test)"
      ],
      "metadata": {
        "id": "kStPc2PfvQyQ"
      },
      "execution_count": null,
      "outputs": []
    },
    {
      "cell_type": "code",
      "source": [
        "evaluate_model(cb_model, X_test, y_test)"
      ],
      "metadata": {
        "id": "fVJpIHoP7nLC"
      },
      "execution_count": null,
      "outputs": []
    },
    {
      "cell_type": "markdown",
      "source": [
        "## 하이퍼 파라미터 튜닝"
      ],
      "metadata": {
        "id": "wUC2xhRXqeWP"
      }
    },
    {
      "cell_type": "markdown",
      "source": [
        "### CatBoost Tuning"
      ],
      "metadata": {
        "id": "OU-oQfkytJjL"
      }
    },
    {
      "cell_type": "code",
      "source": [
        "OPTUNA_OPTIMIZATION = True\n",
        "\n",
        "def objective(trial):\n",
        "    # train_x, valid_x, train_y, valid_y = train_test_split(x_train,y_train, test_size=0.3)\n",
        "\n",
        "    #define parameters\n",
        "    params = {\n",
        "        'iterations':trial.suggest_int(\"iterations\", 500, 3000),\n",
        "        'objective':trial.suggest_categorical('objective',['CrossEntropy','Logloss']),\n",
        "        'bootstrap_type':trial.suggest_categorical('bootstrap_type', ['Bayesian', 'Bernoulli', 'MVS']),\n",
        "        'od_wait':trial.suggest_int('od_wait', 500, 1000),\n",
        "        'learning_rate' : trial.suggest_uniform('learning_rate',0.01,1),\n",
        "        'reg_lambda': trial.suggest_uniform('reg_lambda',1e-5,100),\n",
        "        'random_strength': trial.suggest_uniform('random_strength',20,50),\n",
        "        'depth': trial.suggest_int('depth',1,15),\n",
        "        'min_data_in_leaf': trial.suggest_int('min_data_in_leaf',1,20),\n",
        "        'leaf_estimation_iterations': trial.suggest_int('leaf_estimation_iterations',1,15),\n",
        "        'verbose': False,\n",
        "        \"eval_metric\":'AUC', # AUC로 성능 측정\n",
        "        'task_type' : 'GPU',\n",
        "    }\n",
        "\n",
        "    if params['bootstrap_type'] == 'Bayesian':\n",
        "        params['bagging_temperature'] = trial.suggest_float('bagging_temperature', 0, 10)\n",
        "    elif params['bootstrap_type'] == 'Bernoulli':\n",
        "        params['subsample'] = trial.suggest_float('subsample', 0.1, 1)\n",
        "\n",
        "    # model fit\n",
        "    model = CatBoostClassifier(**params)\n",
        "    model.fit(\n",
        "        train_X, train_y, eval_set=[(test_X, test_y)],\n",
        "        use_best_model=True\n",
        "    )\n",
        "\n",
        "    # validation prediction\n",
        "\n",
        "    y_pred = model.predict_proba(test_X)\n",
        "    y_score=roc_auc_score(test_y,y_pred[:, 1])\n",
        "    return y_score"
      ],
      "metadata": {
        "id": "-UzBrq4NqiDQ"
      },
      "execution_count": null,
      "outputs": []
    },
    {
      "cell_type": "code",
      "source": [
        "import optuna\n",
        "study = optuna.create_study(\n",
        "    direction='maximize',\n",
        "    study_name='CatbClf'\n",
        ")\n",
        "\n",
        "study.optimize(\n",
        "    objective,\n",
        "    n_trials=20\n",
        ")"
      ],
      "metadata": {
        "id": "3RH1tktgtWiY"
      },
      "execution_count": null,
      "outputs": []
    },
    {
      "cell_type": "code",
      "source": [
        "Best_params = study.best_trial.params\n",
        "print(f\"Best Trial: {study.best_trial.value}\")\n",
        "print(f\"Best Params: {study.best_trial.params}\")"
      ],
      "metadata": {
        "id": "Xz1GL6EJtX6J"
      },
      "execution_count": null,
      "outputs": []
    },
    {
      "cell_type": "markdown",
      "source": [
        "### RandomForest Tuning"
      ],
      "metadata": {
        "id": "_51Vzuh9tMad"
      }
    },
    {
      "cell_type": "code",
      "source": [
        "OPTUNA_OPTIMIZATION = True\n",
        "\n",
        "def objective(trial):\n",
        "    # train_x, valid_x, train_y, valid_y = train_test_split(x_train,y_train, test_size=0.3)\n",
        "\n",
        "    #define parameters\n",
        "    param = {\n",
        "        'n_estimators': trial.suggest_int('n_estimators', 1000, 5000),\n",
        "        'max_depth' : trial.suggest_int('max_depth', 3, 10),\n",
        "        'max_features' : trial.suggest_categorical('max_features', ['auto', 'sqrt', 'log2']),\n",
        "        'min_samples_split': trial.suggest_int('min_samples_split', 2, 10),\n",
        "        'min_samples_leaf' : trial.suggest_int('min_samples_leaf', 1, 10),\n",
        "        'bootstrap' : trial.suggest_categorical('bootstrap', [True, False]),\n",
        "        'random_state': 42,\n",
        "        'n_streams':1  # 재현성을 위해 n_streams를 1로 설정\n",
        "    }\n",
        "\n",
        "\n",
        "    # model fit\n",
        "    model = RandomForestClassifier(**param)\n",
        "    model.fit(train_X, train_y)\n",
        "\n",
        "    # validation prediction\n",
        "\n",
        "    y_pred = model.predict_proba(test_X)\n",
        "    y_score=roc_auc_score(test_y,y_pred[1])\n",
        "    return y_score"
      ],
      "metadata": {
        "id": "xTPTaQ5utM5v"
      },
      "execution_count": null,
      "outputs": []
    },
    {
      "cell_type": "code",
      "source": [
        "import optuna\n",
        "study = optuna.create_study(\n",
        "    direction='maximize',\n",
        "    study_name='RFClf'\n",
        ")\n",
        "\n",
        "study.optimize(\n",
        "    n_trials=20,\n",
        "    timeout=5400\n",
        ")"
      ],
      "metadata": {
        "id": "DurSnjFotpNs"
      },
      "execution_count": null,
      "outputs": []
    },
    {
      "cell_type": "code",
      "source": [
        "Best_params = study.best_trial.params\n",
        "print(f\"Best Trial: {study.best_trial.value}\")\n",
        "print(f\"Best Params: {study.best_trial.params}\")"
      ],
      "metadata": {
        "id": "--b6aBswtpbP"
      },
      "execution_count": null,
      "outputs": []
    },
    {
      "cell_type": "markdown",
      "source": [
        "### XGBoost Tuning"
      ],
      "metadata": {
        "id": "N4TY80Cpt6Ts"
      }
    },
    {
      "cell_type": "code",
      "source": [
        "# 목적 함수 정의\n",
        "def objective(trial):\n",
        "    # 튜닝할 하이퍼파라미터 범위 정의\n",
        "    max_depth = trial.suggest_int('max_depth', 2, 10)\n",
        "    n_estimators = trial.suggest_int('n_estimators', 100, 500)\n",
        "    learning_rate = trial.suggest_float('learning_rate', 0.01, 0.3)\n",
        "\n",
        "    # xgboost 모델 생성 및 학습\n",
        "    model = xgb.XGBClassifier(\n",
        "        max_depth=max_depth,\n",
        "        n_estimators=n_estimators,\n",
        "        learning_rate=learning_rate,\n",
        "        random_state=42,\n",
        "        tree_method=\"gpu_hist\"\n",
        "        # task_type=\"GPU\"\n",
        "    )\n",
        "    model.fit(X_train, y_train)\n",
        "\n",
        "    # 모델 평가 (목적 함수)\n",
        "    score = model.score(X_test, y_test)\n",
        "    return score\n",
        "\n",
        "# 옵튜나 study 객체 생성 및 최적화 수행\n",
        "study = optuna.create_study(direction='maximize')\n",
        "study.optimize(objective, n_trials=100)\n",
        "\n",
        "# 최적의 하이퍼파라미터 출력\n",
        "print('Best hyperparameters: ', study.best_params)\n",
        "print('Best score: ', study.best_value)"
      ],
      "metadata": {
        "id": "sUUylHTTt2kV"
      },
      "execution_count": null,
      "outputs": []
    },
    {
      "cell_type": "markdown",
      "source": [
        "## 데이터 탐색"
      ],
      "metadata": {
        "id": "fbh4zzQoqG-e"
      }
    },
    {
      "cell_type": "code",
      "source": [],
      "metadata": {
        "id": "T8_BKHeaQ-Gh"
      },
      "execution_count": null,
      "outputs": []
    },
    {
      "cell_type": "markdown",
      "source": [
        "## 1차 데이터 전처리"
      ],
      "metadata": {
        "id": "4_PL8XPbQ-mZ"
      }
    },
    {
      "cell_type": "code",
      "source": [],
      "metadata": {
        "id": "tdsUE97ZRAbC"
      },
      "execution_count": null,
      "outputs": []
    },
    {
      "cell_type": "markdown",
      "source": [
        "## 1차 모델링"
      ],
      "metadata": {
        "id": "jyZwA7WaRArp"
      }
    },
    {
      "cell_type": "code",
      "source": [],
      "metadata": {
        "id": "3zcW_XxdRCOB"
      },
      "execution_count": null,
      "outputs": []
    }
  ]
}