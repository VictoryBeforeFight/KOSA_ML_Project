{
  "nbformat": 4,
  "nbformat_minor": 0,
  "metadata": {
    "colab": {
      "provenance": [],
      "machine_shape": "hm",
      "gpuType": "T4",
      "include_colab_link": true
    },
    "kernelspec": {
      "name": "python3",
      "display_name": "Python 3"
    },
    "language_info": {
      "name": "python"
    },
    "accelerator": "GPU"
  },
  "cells": [
    {
      "cell_type": "markdown",
      "metadata": {
        "id": "view-in-github",
        "colab_type": "text"
      },
      "source": [
        "<a href=\"https://colab.research.google.com/github/VictoryBeforeFight/KOSA_ML_Project/blob/main/ver1_%E1%84%8B%E1%85%B0%E1%86%B8_%E1%84%80%E1%85%AA%E1%86%BC%E1%84%80%E1%85%A9_%E1%84%8F%E1%85%B3%E1%86%AF%E1%84%85%E1%85%B5%E1%86%A8%E1%84%85%E1%85%B2%E1%86%AF_%E1%84%8B%E1%85%A8%E1%84%8E%E1%85%B3%E1%86%A8_AI.ipynb\" target=\"_parent\"><img src=\"https://colab.research.google.com/assets/colab-badge.svg\" alt=\"Open In Colab\"/></a>"
      ]
    },
    {
      "cell_type": "markdown",
      "source": [
        "# 웹 광고 클릭률 예측 AI\n",
        "\n",
        "- 일시 : 0614-0614\n",
        "- 훈련 소요 시간 : h m\n",
        "- 결측치 : 연속형 = 중앙값 / 범주형 = -1\n",
        "- 삭제 한 행 : 'ID', 'F11', 'F27', 'F29'\n",
        "- 인코더 : X\n",
        "- 언더 샘플링 사용\n",
        "- CatBoostClassifier : iterations=1000, depth=6, learning_rate=0.1\n",
        "- F1 Score : 0.71\n",
        "- AUC : 0.7807"
      ],
      "metadata": {
        "id": "Onf1LObIpIeq"
      }
    },
    {
      "cell_type": "code",
      "execution_count": null,
      "metadata": {
        "colab": {
          "base_uri": "https://localhost:8080/"
        },
        "id": "YeFwEfLFpGnF",
        "outputId": "9b8e92c2-07fc-4abf-d593-3f604c89518d",
        "collapsed": true
      },
      "outputs": [
        {
          "output_type": "stream",
          "name": "stdout",
          "text": [
            "Collecting catboost\n",
            "  Downloading catboost-1.2.5-cp310-cp310-manylinux2014_x86_64.whl (98.2 MB)\n",
            "\u001b[2K     \u001b[90m━━━━━━━━━━━━━━━━━━━━━━━━━━━━━━━━━━━━━━━━\u001b[0m \u001b[32m98.2/98.2 MB\u001b[0m \u001b[31m17.4 MB/s\u001b[0m eta \u001b[36m0:00:00\u001b[0m\n",
            "\u001b[?25hRequirement already satisfied: graphviz in /usr/local/lib/python3.10/dist-packages (from catboost) (0.20.3)\n",
            "Requirement already satisfied: matplotlib in /usr/local/lib/python3.10/dist-packages (from catboost) (3.7.1)\n",
            "Requirement already satisfied: numpy>=1.16.0 in /usr/local/lib/python3.10/dist-packages (from catboost) (1.25.2)\n",
            "Requirement already satisfied: pandas>=0.24 in /usr/local/lib/python3.10/dist-packages (from catboost) (2.0.3)\n",
            "Requirement already satisfied: scipy in /usr/local/lib/python3.10/dist-packages (from catboost) (1.11.4)\n",
            "Requirement already satisfied: plotly in /usr/local/lib/python3.10/dist-packages (from catboost) (5.15.0)\n",
            "Requirement already satisfied: six in /usr/local/lib/python3.10/dist-packages (from catboost) (1.16.0)\n",
            "Requirement already satisfied: python-dateutil>=2.8.2 in /usr/local/lib/python3.10/dist-packages (from pandas>=0.24->catboost) (2.8.2)\n",
            "Requirement already satisfied: pytz>=2020.1 in /usr/local/lib/python3.10/dist-packages (from pandas>=0.24->catboost) (2023.4)\n",
            "Requirement already satisfied: tzdata>=2022.1 in /usr/local/lib/python3.10/dist-packages (from pandas>=0.24->catboost) (2024.1)\n",
            "Requirement already satisfied: contourpy>=1.0.1 in /usr/local/lib/python3.10/dist-packages (from matplotlib->catboost) (1.2.1)\n",
            "Requirement already satisfied: cycler>=0.10 in /usr/local/lib/python3.10/dist-packages (from matplotlib->catboost) (0.12.1)\n",
            "Requirement already satisfied: fonttools>=4.22.0 in /usr/local/lib/python3.10/dist-packages (from matplotlib->catboost) (4.53.0)\n",
            "Requirement already satisfied: kiwisolver>=1.0.1 in /usr/local/lib/python3.10/dist-packages (from matplotlib->catboost) (1.4.5)\n",
            "Requirement already satisfied: packaging>=20.0 in /usr/local/lib/python3.10/dist-packages (from matplotlib->catboost) (24.1)\n",
            "Requirement already satisfied: pillow>=6.2.0 in /usr/local/lib/python3.10/dist-packages (from matplotlib->catboost) (9.4.0)\n",
            "Requirement already satisfied: pyparsing>=2.3.1 in /usr/local/lib/python3.10/dist-packages (from matplotlib->catboost) (3.1.2)\n",
            "Requirement already satisfied: tenacity>=6.2.0 in /usr/local/lib/python3.10/dist-packages (from plotly->catboost) (8.3.0)\n",
            "Installing collected packages: catboost\n",
            "Successfully installed catboost-1.2.5\n"
          ]
        }
      ],
      "source": [
        "!pip install catboost"
      ]
    },
    {
      "cell_type": "code",
      "source": [
        "import pandas as pd\n",
        "import numpy as np\n",
        "from sklearn.preprocessing import StandardScaler, LabelEncoder\n",
        "from sklearn.model_selection import train_test_split\n",
        "from sklearn.ensemble import RandomForestClassifier\n",
        "from sklearn.metrics import f1_score\n",
        "from sklearn.metrics import classification_report\n",
        "from catboost import CatBoostClassifier\n",
        "from imblearn.under_sampling import RandomUnderSampler\n",
        "from sklearn.metrics import roc_auc_score"
      ],
      "metadata": {
        "id": "HVST61_ppXYh"
      },
      "execution_count": null,
      "outputs": []
    },
    {
      "cell_type": "code",
      "source": [
        "train = pd.read_parquet('/content/drive/MyDrive/Colab Notebooks/머신러닝 프로젝트/광고 클릭/train.parquet')"
      ],
      "metadata": {
        "id": "WUb7jw5Wpiki"
      },
      "execution_count": null,
      "outputs": []
    },
    {
      "cell_type": "code",
      "source": [
        "#결측치 제거\n",
        "train.drop(columns=['ID', 'F11', 'F27', 'F29'], inplace=True)"
      ],
      "metadata": {
        "id": "R4YKkHaqplGQ"
      },
      "execution_count": null,
      "outputs": []
    },
    {
      "cell_type": "code",
      "source": [
        "# 결측치('ID', 'F11', 'F27', 'F29') 제거 save파일\n",
        "train.to_parquet('drop_id_11_27_29.parquet')"
      ],
      "metadata": {
        "id": "CML-i9VKpmDE"
      },
      "execution_count": null,
      "outputs": []
    },
    {
      "cell_type": "code",
      "source": [
        "# 결측치 처리\n",
        "for column in train.columns:\n",
        "    if train[column].dtype == 'object':\n",
        "        # 범주형 결측치-1\n",
        "        train[column].fillna(-1, inplace=True)\n",
        "    else:\n",
        "        #연속형 결측치 중앙값\n",
        "        train[column].fillna(train[column].median(), inplace=True)"
      ],
      "metadata": {
        "id": "UhQxNQazpnRN"
      },
      "execution_count": null,
      "outputs": []
    },
    {
      "cell_type": "code",
      "source": [
        "# 목표 변수와 특성 분리\n",
        "X = train.drop('Click', axis=1)\n",
        "y = train['Click']"
      ],
      "metadata": {
        "id": "Y20FobsIpomt"
      },
      "execution_count": null,
      "outputs": []
    },
    {
      "cell_type": "code",
      "source": [
        "# 범주형 변수 식별\n",
        "categorical_columns = X.select_dtypes(include=['object']).columns\n",
        "categorical_features_indices = [X.columns.get_loc(col) for col in categorical_columns]"
      ],
      "metadata": {
        "id": "cK_zHwiipp4I"
      },
      "execution_count": null,
      "outputs": []
    },
    {
      "cell_type": "code",
      "source": [
        "#언더샘플링\n",
        "rus = RandomUnderSampler(random_state=42)\n",
        "X_resampled, y_resampled = rus.fit_resample(X, y)"
      ],
      "metadata": {
        "id": "KdIikraRpq7B"
      },
      "execution_count": null,
      "outputs": []
    },
    {
      "cell_type": "code",
      "source": [
        "# 데이터 분할\n",
        "X_train, X_test, y_train, y_test = train_test_split(X_resampled, y_resampled, test_size=0.2, random_state=42)"
      ],
      "metadata": {
        "id": "SFePe7suptry"
      },
      "execution_count": null,
      "outputs": []
    },
    {
      "cell_type": "code",
      "source": [
        "# CatBoost 모델 초기화 및 훈련\n",
        "model = CatBoostClassifier(iterations=1000, depth=6, learning_rate=0.1, loss_function='Logloss', random_seed=42)\n",
        "model.fit(X_train, y_train, cat_features=categorical_features_indices, verbose=100)"
      ],
      "metadata": {
        "colab": {
          "base_uri": "https://localhost:8080/"
        },
        "id": "G_ovkZBTpuiQ",
        "outputId": "0aa07afe-c69f-47fd-cdf2-21a1693a6b43"
      },
      "execution_count": null,
      "outputs": [
        {
          "output_type": "stream",
          "name": "stdout",
          "text": [
            "0:\tlearn: 0.6787517\ttotal: 10.2s\tremaining: 2h 49m 55s\n",
            "100:\tlearn: 0.5792618\ttotal: 23m 47s\tremaining: 3h 31m 42s\n",
            "200:\tlearn: 0.5744319\ttotal: 48m 46s\tremaining: 3h 13m 54s\n",
            "300:\tlearn: 0.5719345\ttotal: 1h 15m 18s\tremaining: 2h 54m 52s\n",
            "400:\tlearn: 0.5703033\ttotal: 1h 40m 24s\tremaining: 2h 29m 59s\n",
            "500:\tlearn: 0.5691203\ttotal: 2h 6m 18s\tremaining: 2h 5m 48s\n",
            "600:\tlearn: 0.5681432\ttotal: 2h 32m 6s\tremaining: 1h 40m 58s\n",
            "700:\tlearn: 0.5673783\ttotal: 2h 58m 30s\tremaining: 1h 16m 8s\n",
            "800:\tlearn: 0.5667088\ttotal: 3h 24m 41s\tremaining: 50m 51s\n",
            "900:\tlearn: 0.5661483\ttotal: 3h 50m 58s\tremaining: 25m 22s\n",
            "999:\tlearn: 0.5656657\ttotal: 4h 17m 20s\tremaining: 0us\n"
          ]
        },
        {
          "output_type": "execute_result",
          "data": {
            "text/plain": [
              "<catboost.core.CatBoostClassifier at 0x7e0a11440520>"
            ]
          },
          "metadata": {},
          "execution_count": 14
        }
      ]
    },
    {
      "cell_type": "code",
      "source": [
        "# 예측\n",
        "y_pred = model.predict(X_test)"
      ],
      "metadata": {
        "id": "AZpeIizVpv3o"
      },
      "execution_count": null,
      "outputs": []
    },
    {
      "cell_type": "code",
      "source": [
        "# 성능 평가 보고서 생성\n",
        "report = classification_report(y_test, y_pred)\n",
        "print(report)"
      ],
      "metadata": {
        "colab": {
          "base_uri": "https://localhost:8080/"
        },
        "id": "4DCWMb0Wpw-o",
        "outputId": "afffd341-1ed8-4f20-886e-3be0d797cfb4"
      },
      "execution_count": null,
      "outputs": [
        {
          "output_type": "stream",
          "name": "stdout",
          "text": [
            "              precision    recall  f1-score   support\n",
            "\n",
            "           0       0.71      0.71      0.71   1114620\n",
            "           1       0.71      0.71      0.71   1113324\n",
            "\n",
            "    accuracy                           0.71   2227944\n",
            "   macro avg       0.71      0.71      0.71   2227944\n",
            "weighted avg       0.71      0.71      0.71   2227944\n",
            "\n"
          ]
        }
      ]
    },
    {
      "cell_type": "code",
      "source": [
        "from sklearn.metrics import roc_auc_score\n",
        "#AUC 계산\n",
        "y_true = y_test  # 실제 타깃 값\n",
        "y_pred = model.predict_proba(X_test)[:, 1]\n",
        "auc = roc_auc_score(y_true, y_pred)\n",
        "print(f'AUC: {auc:.4f}')"
      ],
      "metadata": {
        "colab": {
          "base_uri": "https://localhost:8080/"
        },
        "id": "BzguNW4Qpx2K",
        "outputId": "8d6ac62d-7937-48f9-9937-6f09f29f3030"
      },
      "execution_count": null,
      "outputs": [
        {
          "output_type": "stream",
          "name": "stdout",
          "text": [
            "AUC: 0.7807\n"
          ]
        }
      ]
    },
    {
      "cell_type": "code",
      "source": [],
      "metadata": {
        "id": "Nt8Llm9V1pYo"
      },
      "execution_count": null,
      "outputs": []
    }
  ]
}