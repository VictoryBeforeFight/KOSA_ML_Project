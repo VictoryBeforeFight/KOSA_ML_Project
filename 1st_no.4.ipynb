{
  "nbformat": 4,
  "nbformat_minor": 0,
  "metadata": {
    "colab": {
      "provenance": [],
      "machine_shape": "hm",
      "mount_file_id": "1FlMAkknZ8-WXFTkjamg8WAOMaw0xoKIX",
      "authorship_tag": "ABX9TyMpkGWX6oy5w8Mur0CPmxoz",
      "include_colab_link": true
    },
    "kernelspec": {
      "name": "python3",
      "display_name": "Python 3"
    },
    "language_info": {
      "name": "python"
    }
  },
  "cells": [
    {
      "cell_type": "markdown",
      "metadata": {
        "id": "view-in-github",
        "colab_type": "text"
      },
      "source": [
        "<a href=\"https://colab.research.google.com/github/VictoryBeforeFight/KOSA_ML_Project/blob/main/1st_no.4.ipynb\" target=\"_parent\"><img src=\"https://colab.research.google.com/assets/colab-badge.svg\" alt=\"Open In Colab\"/></a>"
      ]
    },
    {
      "cell_type": "code",
      "execution_count": null,
      "metadata": {
        "id": "h47z2YtB6wRG"
      },
      "outputs": [],
      "source": [
        "import pandas as pd\n",
        "import numpy as np\n",
        "from sklearn.preprocessing import StandardScaler, LabelEncoder\n",
        "from sklearn.model_selection import train_test_split\n",
        "from sklearn.ensemble import RandomForestClassifier\n",
        "from sklearn.metrics import f1_score\n",
        "\n",
        "train = pd.read_parquet('/content/drive/MyDrive/Colab Notebooks/머신러닝 프로젝트/광고 클릭/train.parquet')\n",
        "\n",
        "#결측치가 있는 열 확인\n",
        "missing_values = train.isnull().sum()\n",
        "print(missing_values[missing_values > 0])\n",
        "\n",
        "#곃측치 제거\n",
        "train.drop(columns=['ID', 'F11', 'F27', 'F28'], inplace=True)\n",
        "\n",
        "#결측치 처리\n",
        "for column in train.columns:\n",
        "    if train[column].dtype == 'object':\n",
        "        train[column].fillna(1, inplace=True)\n",
        "    else:\n",
        "        train[column].fillna(0, inplace=True)\n",
        "\n",
        "# 수치형 데이터 스케일링\n",
        "sc = StandardScaler()\n",
        "numeric_features = train.select_dtypes(include=[np.number]).columns\n",
        "train[numeric_features] = sc.fit_transform(train[numeric_features])\n",
        "\n",
        "categorical_columns = train.select_dtypes(include=['object']).columns\n",
        "\n",
        "#타입변경\n",
        "train[categorical_columns] = train[categorical_columns].astype(str)\n",
        "\n",
        "#범주형 데이터 인코딩\n",
        "for col in categorical_columns:\n",
        "    le = LabelEncoder()\n",
        "    train[col] = le.fit_transform(train[col])\n",
        "\n",
        "# 목표 변수와 특성 분리\n",
        "X = train.drop('Click', axis=1)\n",
        "y = train['Click']\n",
        "\n",
        "from imblearn.under_sampling import RandomUnderSampler\n",
        "y = (y > y.median()).astype(int)\n",
        "# 언더샘플링\n",
        "rus = RandomUnderSampler(random_state=42)\n",
        "X_resampled, y_resampled = rus.fit_resample(X, y)\n",
        "\n",
        "\n",
        "# 데이터 분할\n",
        "X_train, X_test, y_train, y_test = train_test_split(X_resampled, y_resampled, test_size=0.2, random_state=42)\n",
        "# 분할된 데이터 저장\n",
        "X_train.to_parquet('/content/drive/MyDrive/Colab Notebooks/머신러닝 프로젝트/광고 클릭/X_train.parquet')\n",
        "X_test.to_parquet('/content/drive/MyDrive/Colab Notebooks/머신러닝 프로젝트/광고 클릭/X_test.parquet')\n",
        "y_train.to_parquet('/content/drive/MyDrive/Colab Notebooks/머신러닝 프로젝트/광고 클릭/y_train.parquet')\n",
        "y_test.to_parquet('/content/drive/MyDrive/Colab Notebooks/머신러닝 프로젝트/광고 클릭/y_test.parquet')\n",
        "# 모델 초기화 및 훈련\n",
        "model = RandomForestClassifier(n_estimators=100, random_state=42)\n",
        "model.fit(X_train, y_train)\n",
        "\n",
        "# 예측\n",
        "y_pred = model.predict(X_test)\n",
        "\n",
        "# 성능 평가 보고서 생성\n",
        "report = classification_report(y_test, y_pred)\n",
        "print(report)\n",
        "\n",
        "from sklearn.metrics import roc_auc_score\n",
        "#AUC 계산\n",
        "y_true = y_test  # 실제 타깃 값\n",
        "y_pred = model.predict_proba(X_test)[:, 1]\n",
        "auc = roc_auc_score(y_true, y_pred)\n",
        "print(f'AUC: {auc:.4f}')"
      ]
    },
    {
      "cell_type": "code",
      "source": [
        "print(y.value_counts())"
      ],
      "metadata": {
        "id": "uzVx8Qqr7G84"
      },
      "execution_count": null,
      "outputs": []
    },
    {
      "cell_type": "code",
      "source": [
        "cm = confusion_matrix(y_test, y_pred)\n",
        "print(cm)"
      ],
      "metadata": {
        "id": "JPwCO7sU7J-W"
      },
      "execution_count": null,
      "outputs": []
    },
    {
      "cell_type": "code",
      "source": [
        "from sklearn.metrics import classification_report, confusion_matrix\n",
        "# 성능 평가 보고서 생성\n",
        "report = classification_report(y_test, y_pred)\n",
        "print(report)\n",
        "\n",
        "from sklearn.metrics import roc_auc_score\n",
        "#AUC 계산\n",
        "y_true = y_test  # 실제 타깃 값\n",
        "y_pred = model.predict_proba(X_test)[:, 1]\n",
        "auc = roc_auc_score(y_true, y_pred)\n",
        "print(f'AUC: {auc:.4f}')\n",
        "\n",
        "# 혼동행렬 출력\n",
        "cm = confusion_matrix(y_test, y_pred)\n",
        "print(cm)\n",
        "\n",
        "#feature_importance\n",
        "from feature_importance import feature_importance\n",
        "feature_importance(model, X_train, y_train)"
      ],
      "metadata": {
        "id": "1-oYg8dS7KPs"
      },
      "execution_count": null,
      "outputs": []
    },
    {
      "cell_type": "code",
      "source": [
        "# model_evaluation.py\n",
        "\n",
        "import pandas as pd\n",
        "from sklearn.metrics import classification_report, confusion_matrix, roc_auc_score\n",
        "import lightgbm as lgb\n",
        "import matplotlib.pyplot as plt\n",
        "import seaborn as sns\n",
        "\n",
        "def evaluate_model(model, X_test, y_test):\n",
        "    # 예측\n",
        "    y_pred = model.predict(X_test)\n",
        "    y_pred_binary = [1 if x >= 0.5 else 0 for x in y_pred]\n",
        "\n",
        "    # 성능 평가 보고서 생성\n",
        "    report = classification_report(y_test, y_pred_binary)\n",
        "    print(report)\n",
        "\n",
        "    # AUC 계산\n",
        "    y_true = y_test  # 실제 타깃 값\n",
        "    y_pred_proba = model.predict(X_test)[:, 1]  # LightGBM의 predict_proba\n",
        "    auc = roc_auc_score(y_true, y_pred_proba)\n",
        "    print(f'AUC: {auc:.4f}')\n",
        "\n",
        "    # 혼동 행렬 출력\n",
        "    cm = confusion_matrix(y_test, y_pred_binary)\n",
        "    print(cm)\n",
        "\n",
        "    return report, auc, cm\n",
        "\n",
        "def plot_feature_importance(model, X_train):\n",
        "    # 피처 중요도 출력\n",
        "    feature_importances = pd.DataFrame({\n",
        "        'feature': X_train.columns,\n",
        "        'importance': model.feature_importance()\n",
        "    }).sort_values(by='importance', ascending=False)\n",
        "\n",
        "    plt.figure(figsize=(10, 8))\n",
        "    sns.barplot(x='importance', y='feature', data=feature_importances)\n",
        "    plt.title('Feature Importance')\n",
        "    plt.show()\n",
        "\n",
        "    return feature_importances\n"
      ],
      "metadata": {
        "id": "jpntJf_i_xq4"
      },
      "execution_count": null,
      "outputs": []
    }
  ]
}