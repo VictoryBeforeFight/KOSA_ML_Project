{
  "nbformat": 4,
  "nbformat_minor": 0,
  "metadata": {
    "colab": {
      "provenance": [],
      "authorship_tag": "ABX9TyNNeh98Zc1Xj1/MV3YRW5wG",
      "include_colab_link": true
    },
    "kernelspec": {
      "name": "python3",
      "display_name": "Python 3"
    },
    "language_info": {
      "name": "python"
    }
  },
  "cells": [
    {
      "cell_type": "markdown",
      "metadata": {
        "id": "view-in-github",
        "colab_type": "text"
      },
      "source": [
        "<a href=\"https://colab.research.google.com/github/VictoryBeforeFight/KOSA_ML_Project/blob/main/model_evaluation.ipynb\" target=\"_parent\"><img src=\"https://colab.research.google.com/assets/colab-badge.svg\" alt=\"Open In Colab\"/></a>"
      ]
    },
    {
      "cell_type": "code",
      "execution_count": null,
      "metadata": {
        "id": "Q-9gol08Bfq1"
      },
      "outputs": [],
      "source": [
        "import pandas as pd\n",
        "from sklearn.metrics import classification_report, confusion_matrix, roc_auc_score\n",
        "import matplotlib.pyplot as plt\n",
        "import seaborn as sns\n",
        "\n",
        "def evaluate_model(model, X_test, y_test):\n",
        "\n",
        "# 모델 성능 평가 함수\n",
        "\n",
        "    # AUC 계산\n",
        "    y_pred_proba = model.predict_proba(X_test)[:, 1]\n",
        "    auc = roc_auc_score(y_test, y_pred_proba)\n",
        "    print(f'AUC: {auc:.4f}')\n",
        "\n",
        "    # 성능 평가 보고서 생성\n",
        "    report = classification_report(y_test, model.predict(X_test))\n",
        "    print(report)\n",
        "\n",
        "    # 혼동 행렬 출력\n",
        "    cm = confusion_matrix(y_test, model.predict(X_test))\n",
        "    print(cm)\n",
        "\n",
        "def plot_feature_importance(model, X_train):\n",
        "\n",
        "# 특성 중요도 시각화 함수\n",
        "\n",
        "    feature_importances = pd.DataFrame({\n",
        "        'feature': X_train.columns,\n",
        "        'importance': model.feature_importances_\n",
        "    }).sort_values(by='importance', ascending=False)\n",
        "\n",
        "    plt.figure(figsize=(10, 8))\n",
        "    sns.barplot(x='importance', y='feature', data=feature_importances)\n",
        "    plt.title('Feature Importance')\n",
        "    plt.show()"
      ]
    }
  ]
}