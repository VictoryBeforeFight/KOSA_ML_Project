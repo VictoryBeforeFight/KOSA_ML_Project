{
  "nbformat": 4,
  "nbformat_minor": 0,
  "metadata": {
    "colab": {
      "provenance": [],
      "machine_shape": "hm",
      "mount_file_id": "1tlqxb5NMqSmxImPePMxZErOEvPNjM-5R",
      "authorship_tag": "ABX9TyO2ll95hq7plPdwAV8rpZZ9",
      "include_colab_link": true
    },
    "kernelspec": {
      "name": "python3",
      "display_name": "Python 3"
    },
    "language_info": {
      "name": "python"
    }
  },
  "cells": [
    {
      "cell_type": "markdown",
      "metadata": {
        "id": "view-in-github",
        "colab_type": "text"
      },
      "source": [
        "<a href=\"https://colab.research.google.com/github/VictoryBeforeFight/KOSA_ML_Project/blob/main/3%EC%B0%A8_%EC%A4%91%EC%95%99_%EC%B5%9C%EB%B9%88_%EB%AA%A8%EB%8D%B8%EB%A7%81.ipynb\" target=\"_parent\"><img src=\"https://colab.research.google.com/assets/colab-badge.svg\" alt=\"Open In Colab\"/></a>"
      ]
    },
    {
      "cell_type": "code",
      "execution_count": null,
      "metadata": {
        "id": "U5FuUE16pIaV"
      },
      "outputs": [],
      "source": [
        "\n",
        "from sklearn.preprocessing import StandardScaler, LabelEncoder\n",
        "\n",
        "import pandas as pd\n",
        "from sklearn.model_selection import train_test_split\n",
        "from sklearn.metrics import classification_report, confusion_matrix\n",
        "from imblearn.under_sampling import RandomUnderSampler\n",
        "from imblearn.over_sampling import SMOTE\n",
        "import lightgbm as lgb\n",
        "\n",
        "# 데이터 로드\n",
        "train = pd.read_parquet('/content/drive/MyDrive/Colab Notebooks/머신러닝 프로젝트/광고 클릭/train.parquet')\n",
        "\n",
        "#결측치 제거\n",
        "train.drop(columns=['ID', 'F11', 'F27', 'F29'], inplace=True)\n",
        "\n",
        "# 결측치 처리\n",
        "for column in train.columns:\n",
        "    if train[column].dtype == 'object':\n",
        "        # 범주형 변수의 결측치는 중앙값으로 대체\n",
        "        train[column].fillna(train[column].mode()[0], inplace=True)\n",
        "    else:\n",
        "        # 연속형 변수의 결측치는 최빈값으로 대체\n",
        "        train[column].fillna(train[column].median(), inplace=True)\n",
        "\n",
        "# 수치형 데이터 스케일링\n",
        "sc = StandardScaler()\n",
        "numeric_features = train.select_dtypes(include=[np.number]).columns\n",
        "train[numeric_features] = sc.fit_transform(train[numeric_features])\n",
        "\n",
        "categorical_columns = train.select_dtypes(include=['object']).columns\n",
        "\n",
        "#타입변경\n",
        "train[categorical_columns] = train[categorical_columns].astype(str)\n",
        "\n",
        "#범주형 데이터 인코딩\n",
        "for col in categorical_columns:\n",
        "    le = LabelEncoder()\n",
        "    train[col] = le.fit_transform(train[col])\n",
        "\n",
        "# 데이터 타입 최적화 (float64 -> float32)\n",
        "for col in train.select_dtypes(include=['float64']).columns:\n",
        "    train[col] = train[col].astype('float32')\n",
        "\n",
        "# 목표 변수와 특성 분리\n",
        "X = train.drop('Click', axis=1)\n",
        "y = train['Click']\n",
        "\n",
        "# 언더샘플링\n",
        "rus = RandomUnderSampler(random_state=42)\n",
        "X_resampled, y_resampled = rus.fit_resample(X, y)\n",
        "\n",
        "# 오버샘플링 (SMOTE)\n",
        "smote = SMOTE(random_state=42)\n",
        "X_resampled, y_resampled = smote.fit_resample(X_resampled, y_resampled)\n",
        "\n",
        "# 데이터 분할\n",
        "X_train, X_test, y_train, y_test = train_test_split(X_resampled, y_resampled, test_size=0.2, random_state=42)\n",
        "\n",
        "# 분할된 데이터 저장\n",
        "X_train.to_parquet('X_train.parquet')\n",
        "X_test.to_parquet('X_test.parquet')\n",
        "y_train.to_parquet('y_train.parquet')\n",
        "y_test.to_parquet('y_test.parquet')\n",
        "\n",
        "# LightGBM 데이터셋 생성\n",
        "train_data = lgb.Dataset(X_train, label=y_train, categorical_feature=categorical_columns.tolist())\n",
        "test_data = lgb.Dataset(X_test, label=y_test, categorical_feature=categorical_columns.tolist(), reference=train_data)\n",
        "\n",
        "# LightGBM 모델 훈련\n",
        "model = lgb.train(params, train_data, valid_sets=[train_data, test_data], num_boost_round=500, early_stopping_rounds=50, verbose_eval=100)\n",
        "\n",
        "# 최종 모델 저장\n",
        "model.save_model('lightgbm_model.txt')\n",
        "\n",
        "# 예측\n",
        "y_pred = model.predict(X_test)\n",
        "y_pred_binary = [1 if x >= 0.5 else 0 for x in y_pred]\n"
      ]
    },
    {
      "cell_type": "code",
      "source": [
        "# 성능 평가 보고서 생성 및 출력\n",
        "report = classification_report(y_test, y_pred_binary)\n",
        "print(\"Classification Report:\")\n",
        "print(report)"
      ],
      "metadata": {
        "id": "2fhA12ljQOGO"
      },
      "execution_count": null,
      "outputs": []
    },
    {
      "cell_type": "code",
      "source": [
        "# 혼동 행렬 출력\n",
        "cm = confusion_matrix(y_test, y_pred_binary)\n",
        "print(\"Confusion Matrix:\")\n",
        "print(cm)"
      ],
      "metadata": {
        "id": "GK-8xRamQNCY"
      },
      "execution_count": null,
      "outputs": []
    }
  ]
}